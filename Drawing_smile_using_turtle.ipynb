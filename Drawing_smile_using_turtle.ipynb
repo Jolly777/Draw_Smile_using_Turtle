{
 "cells": [
  {
   "cell_type": "code",
   "execution_count": 1,
   "metadata": {},
   "outputs": [],
   "source": [
    "#drawing_smile_using_turtle\n",
    "import turtle\n",
    "wn = turtle.Screen()\n",
    "wn.bgcolor(\"black\")\n",
    "t = turtle.Turtle()\n",
    "t.shape(\"turtle\")\n",
    "t.setpos(0,0)\n",
    "t.pendown()\n",
    "t.pencolor(\"yellow\")\n",
    "t.pensize(\"5\")\n",
    "t.speed(3)\n",
    "t.fillcolor(\"yellow\")\n",
    "t.begin_fill()\n",
    "t.circle(130)\n",
    "t.end_fill()\n",
    "t.penup()\n",
    "t.goto(-50,150)\n",
    "t.pendown()\n",
    "t.pensize(3)\n",
    "t.fillcolor(\"black\")\n",
    "t.pencolor(\"black\")\n",
    "t.begin_fill()\n",
    "t.circle(20)\n",
    "t.end_fill()\n",
    "t.penup()\n",
    "t.goto(50,150)\n",
    "t.pendown()\n",
    "t.pensize(3)\n",
    "t.fillcolor(\"black\")\n",
    "t.pencolor(\"black\")\n",
    "t.begin_fill()\n",
    "t.circle(20)\n",
    "t.end_fill()\n",
    "t.penup()\n",
    "t.goto(-110,120)\n",
    "t.pendown()\n",
    "t.pensize(8)\n",
    "t.pencolor(\"black\")\n",
    "t.circle(30,20)\n",
    "t.rt(100)\n",
    "t.circle(100,160)\n",
    "t.rt(90)\n",
    "t.fd(8)\n",
    "t.penup()\n",
    "t.goto(0,12)\n",
    "t.write(\"KEEP_SMILING\", align=\"CENTER\", font=(\"Verdana\", 12, \"bold\"))\n",
    "t.penup()\n",
    "t.hideturtle()\n",
    "wn.exitonclick()"
   ]
  },
  {
   "cell_type": "code",
   "execution_count": null,
   "metadata": {},
   "outputs": [],
   "source": []
  }
 ],
 "metadata": {
  "kernelspec": {
   "display_name": "Python 3",
   "language": "python",
   "name": "python3"
  },
  "language_info": {
   "codemirror_mode": {
    "name": "ipython",
    "version": 3
   },
   "file_extension": ".py",
   "mimetype": "text/x-python",
   "name": "python",
   "nbconvert_exporter": "python",
   "pygments_lexer": "ipython3",
   "version": "3.8.5"
  }
 },
 "nbformat": 4,
 "nbformat_minor": 4
}
